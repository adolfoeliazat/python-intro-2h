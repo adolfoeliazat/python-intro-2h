{
 "metadata": {
  "name": "",
  "signature": "sha256:f48c53c5e8e5ee5b07e428a5758f367e0259d9ace33db47fd395d81c9eb14c1f"
 },
 "nbformat": 3,
 "nbformat_minor": 0,
 "worksheets": [
  {
   "cells": [
    {
     "cell_type": "markdown",
     "metadata": {},
     "source": [
      "Introduction to Python\n",
      "======================\n",
      "An introduction to Python for just about anyone\n",
      "\n",
      "* *(with at least a little programming experience)*\n",
      "\n",
      "<center><a href=\"http://continuum.io\"><img src=\"http://ijstokes-public.s3.amazonaws.com/img/continuum-logo-color.png\"></a></center>\n",
      "\n",
      "Taught by **Ian Stokes-Rees** [ijstokes@continuum.io](mailto:ijstokes@continuum.io)\n",
      "\n",
      "* Twitter: [@ijstokes](http://twitter.com/ijstokes)\n",
      "* About.Me: [http://about.me/ijstokes](http://about.me/ijstokes)\n",
      "* LinkedIn: [http://linkedin.com/in/ijstokes](http://linkedin.com/in/ijstokes)\n",
      "\n",
      "Workshop Website:\n",
      " [http://j.mp/python-intro-2h](http://j.mp/python-intro-2h)"
     ]
    },
    {
     "cell_type": "markdown",
     "metadata": {},
     "source": [
      "Setup\n",
      "-----\n",
      "1. Grab some food or drink (we may have lots of people, so don't be greedy!)\n",
      "2. Download and install the [Anaconda Python Distribution](http://continuum.io/downloads) from Continuum Analytics\n",
      "    * It is about 230 MB, but contains a lot of really useful tools and extra libraries beyond the Python Standard Library\n",
      "    * In a pinch, Linux and Mac users: you already have Python on your machine; Windows users, you can get the [Official Python Distribution from python.org](http://python.org) which is only 30 MB\n",
      "    * Failing that, I have some USB keys ...\n",
      "3. Introduce yourself to your neighbour\n",
      "    * programming is more fun with friends!\n",
      "    * probably too many people for me to help you or answer questions during workshop: peer-to-peer learning! collaborative problem solving!\n",
      "4. Download the workshop material:\n",
      "    * GitHub\n",
      "        * [repository]()\n",
      "        * [zip file]()\n",
      "    * Wakari\n",
      "        * [web view]()\n",
      "        * [zip file]()\n",
      "5. Unzip the material somewhere sensible (e.g. your home directory)\n",
      "    * Windows:\n",
      "```dos\n",
      "c:\\> cd %HOMEPATH%\n",
      "c:ijstokes> unzip %HOMEPATH%\\Downloads\\python-intro-2h.zip\n",
      "```\n",
      "    * Mac:\n",
      "```bash\n",
      "$ cd ~\n",
      "$ unzip ~/Downloads/python-intro-2h.zip\n",
      "```\n",
      "    * *nix: you're on your own\n",
      "\n",
      "6. Check your Python version and fire up your interactive interpreter:\n",
      "\n",
      "```bash\n",
      "$ cd ~/python-intro-2h\n",
      "$ python -V\n",
      "$ python\n",
      "Python 2.7.8 |Continuum| (default, Aug 21 2014, 15:21:46) \n",
      "[GCC 4.2.1 (Apple Inc. build 5577)] on darwin\n",
      ">>>\n",
      "```"
     ]
    },
    {
     "cell_type": "markdown",
     "metadata": {},
     "source": [
      "Types and Expressions\n",
      "====================="
     ]
    },
    {
     "cell_type": "code",
     "collapsed": false,
     "input": [
      "# basic math\n",
      "3 + 7"
     ],
     "language": "python",
     "metadata": {},
     "outputs": [
      {
       "metadata": {},
       "output_type": "pyout",
       "prompt_number": 85,
       "text": [
        "10"
       ]
      }
     ],
     "prompt_number": 85
    },
    {
     "cell_type": "code",
     "collapsed": false,
     "input": [
      "15 * 4"
     ],
     "language": "python",
     "metadata": {},
     "outputs": [
      {
       "metadata": {},
       "output_type": "pyout",
       "prompt_number": 86,
       "text": [
        "60"
       ]
      }
     ],
     "prompt_number": 86
    },
    {
     "cell_type": "code",
     "collapsed": false,
     "input": [
      "15.5 / 2.5"
     ],
     "language": "python",
     "metadata": {},
     "outputs": [
      {
       "metadata": {},
       "output_type": "pyout",
       "prompt_number": 90,
       "text": [
        "6.2"
       ]
      }
     ],
     "prompt_number": 90
    },
    {
     "cell_type": "code",
     "collapsed": false,
     "input": [
      "2**10"
     ],
     "language": "python",
     "metadata": {},
     "outputs": [
      {
       "metadata": {},
       "output_type": "pyout",
       "prompt_number": 92,
       "text": [
        "1024"
       ]
      }
     ],
     "prompt_number": 92
    },
    {
     "cell_type": "code",
     "collapsed": false,
     "input": [
      "(3 + 7) * 2.2"
     ],
     "language": "python",
     "metadata": {},
     "outputs": [
      {
       "metadata": {},
       "output_type": "pyout",
       "prompt_number": 94,
       "text": [
        "22.0"
       ]
      }
     ],
     "prompt_number": 94
    },
    {
     "cell_type": "code",
     "collapsed": false,
     "input": [
      "7 / 2 # integer math!"
     ],
     "language": "python",
     "metadata": {},
     "outputs": [
      {
       "metadata": {},
       "output_type": "pyout",
       "prompt_number": 95,
       "text": [
        "3"
       ]
      }
     ],
     "prompt_number": 95
    },
    {
     "cell_type": "code",
     "collapsed": false,
     "input": [
      "# expressions\n",
      "'hello' + 'everyone'"
     ],
     "language": "python",
     "metadata": {},
     "outputs": [
      {
       "metadata": {},
       "output_type": "pyout",
       "prompt_number": 96,
       "text": [
        "'helloeveryone'"
       ]
      }
     ],
     "prompt_number": 96
    },
    {
     "cell_type": "code",
     "collapsed": false,
     "input": [
      "'python love' + 'python love' + 'python love'"
     ],
     "language": "python",
     "metadata": {},
     "outputs": [
      {
       "metadata": {},
       "output_type": "pyout",
       "prompt_number": 97,
       "text": [
        "'python lovepython lovepython love'"
       ]
      }
     ],
     "prompt_number": 97
    },
    {
     "cell_type": "code",
     "collapsed": false,
     "input": [
      "'python love' * 3"
     ],
     "language": "python",
     "metadata": {},
     "outputs": [
      {
       "metadata": {},
       "output_type": "pyout",
       "prompt_number": 98,
       "text": [
        "'python lovepython lovepython love'"
       ]
      }
     ],
     "prompt_number": 98
    },
    {
     "cell_type": "code",
     "collapsed": false,
     "input": [
      "# references (you may know them as \"variables\")\n",
      "a = 3"
     ],
     "language": "python",
     "metadata": {},
     "outputs": [],
     "prompt_number": 99
    },
    {
     "cell_type": "code",
     "collapsed": false,
     "input": [
      "a"
     ],
     "language": "python",
     "metadata": {},
     "outputs": [
      {
       "metadata": {},
       "output_type": "pyout",
       "prompt_number": 100,
       "text": [
        "3"
       ]
      }
     ],
     "prompt_number": 100
    },
    {
     "cell_type": "code",
     "collapsed": false,
     "input": [
      "type(a)"
     ],
     "language": "python",
     "metadata": {},
     "outputs": [
      {
       "metadata": {},
       "output_type": "pyout",
       "prompt_number": 101,
       "text": [
        "int"
       ]
      }
     ],
     "prompt_number": 101
    },
    {
     "cell_type": "code",
     "collapsed": false,
     "input": [
      "a + 7"
     ],
     "language": "python",
     "metadata": {},
     "outputs": [
      {
       "metadata": {},
       "output_type": "pyout",
       "prompt_number": 102,
       "text": [
        "10"
       ]
      }
     ],
     "prompt_number": 102
    },
    {
     "cell_type": "code",
     "collapsed": false,
     "input": [
      "day = 'Tuesday'"
     ],
     "language": "python",
     "metadata": {},
     "outputs": [],
     "prompt_number": 103
    },
    {
     "cell_type": "code",
     "collapsed": false,
     "input": [
      "day"
     ],
     "language": "python",
     "metadata": {},
     "outputs": [
      {
       "metadata": {},
       "output_type": "pyout",
       "prompt_number": 104,
       "text": [
        "'Tuesday'"
       ]
      }
     ],
     "prompt_number": 104
    },
    {
     "cell_type": "code",
     "collapsed": false,
     "input": [
      "type(day)"
     ],
     "language": "python",
     "metadata": {},
     "outputs": [
      {
       "metadata": {},
       "output_type": "pyout",
       "prompt_number": 105,
       "text": [
        "str"
       ]
      }
     ],
     "prompt_number": 105
    },
    {
     "cell_type": "code",
     "collapsed": false,
     "input": [
      "day + ' is a great day to learn Python'"
     ],
     "language": "python",
     "metadata": {},
     "outputs": [
      {
       "metadata": {},
       "output_type": "pyout",
       "prompt_number": 106,
       "text": [
        "'Tuesday is a great day to learn Python'"
       ]
      }
     ],
     "prompt_number": 106
    },
    {
     "cell_type": "code",
     "collapsed": false,
     "input": [
      "temp = 45.7"
     ],
     "language": "python",
     "metadata": {},
     "outputs": [],
     "prompt_number": 107
    },
    {
     "cell_type": "code",
     "collapsed": false,
     "input": [
      "temp"
     ],
     "language": "python",
     "metadata": {},
     "outputs": [
      {
       "metadata": {},
       "output_type": "pyout",
       "prompt_number": 108,
       "text": [
        "45.7"
       ]
      }
     ],
     "prompt_number": 108
    },
    {
     "cell_type": "code",
     "collapsed": false,
     "input": [
      "type(temp)"
     ],
     "language": "python",
     "metadata": {},
     "outputs": [
      {
       "metadata": {},
       "output_type": "pyout",
       "prompt_number": 109,
       "text": [
        "float"
       ]
      }
     ],
     "prompt_number": 109
    },
    {
     "cell_type": "code",
     "collapsed": false,
     "input": [
      "temp - 15.0 # maybe tomorrow!"
     ],
     "language": "python",
     "metadata": {},
     "outputs": [
      {
       "metadata": {},
       "output_type": "pyout",
       "prompt_number": 110,
       "text": [
        "30.700000000000003"
       ]
      }
     ],
     "prompt_number": 110
    },
    {
     "cell_type": "code",
     "collapsed": false,
     "input": [
      "# types: int, float, str"
     ],
     "language": "python",
     "metadata": {},
     "outputs": []
    },
    {
     "cell_type": "markdown",
     "metadata": {},
     "source": [
      "**You should be doing your best to follow along in your own interactive interpreter session**"
     ]
    },
    {
     "cell_type": "code",
     "collapsed": false,
     "input": [
      "# quick review from vanilla Python interpreter\n",
      "# dir() (at start and end)"
     ],
     "language": "python",
     "metadata": {},
     "outputs": []
    },
    {
     "cell_type": "markdown",
     "metadata": {},
     "source": [
      "Some other languages provide *transmogrifcation* magic:\n",
      "\n",
      "<img src=\"http://templeofmut.files.wordpress.com/2012/03/transmogrifier_2.gif\" width=200/>\n",
      "\n",
      "But not Python:\n",
      "\n",
      "* dynamically typed, but ...\n",
      "* strongly typed"
     ]
    },
    {
     "cell_type": "code",
     "collapsed": false,
     "input": [
      "a = '3'"
     ],
     "language": "python",
     "metadata": {},
     "outputs": [],
     "prompt_number": 111
    },
    {
     "cell_type": "code",
     "collapsed": false,
     "input": [
      "type(a)"
     ],
     "language": "python",
     "metadata": {},
     "outputs": [
      {
       "metadata": {},
       "output_type": "pyout",
       "prompt_number": 112,
       "text": [
        "str"
       ]
      }
     ],
     "prompt_number": 112
    },
    {
     "cell_type": "code",
     "collapsed": false,
     "input": [
      "# comment on exception\n",
      "a + 7"
     ],
     "language": "python",
     "metadata": {},
     "outputs": [
      {
       "ename": "TypeError",
       "evalue": "cannot concatenate 'str' and 'int' objects",
       "output_type": "pyerr",
       "traceback": [
        "\u001b[0;31m---------------------------------------------------------------------------\u001b[0m\n\u001b[0;31mTypeError\u001b[0m                                 Traceback (most recent call last)",
        "\u001b[0;32m<ipython-input-114-cd3dfc25b26e>\u001b[0m in \u001b[0;36m<module>\u001b[0;34m()\u001b[0m\n\u001b[0;32m----> 1\u001b[0;31m \u001b[0ma\u001b[0m \u001b[0;34m+\u001b[0m \u001b[0;36m7\u001b[0m\u001b[0;34m\u001b[0m\u001b[0m\n\u001b[0m",
        "\u001b[0;31mTypeError\u001b[0m: cannot concatenate 'str' and 'int' objects"
       ]
      }
     ],
     "prompt_number": 114
    },
    {
     "cell_type": "code",
     "collapsed": false,
     "input": [
      "# make a prediction! what will happen\n",
      "a * 7"
     ],
     "language": "python",
     "metadata": {},
     "outputs": []
    },
    {
     "cell_type": "code",
     "collapsed": false,
     "input": [
      "age = 39"
     ],
     "language": "python",
     "metadata": {},
     "outputs": [],
     "prompt_number": 115
    },
    {
     "cell_type": "code",
     "collapsed": false,
     "input": [
      "'I am ' + age + ' years old'"
     ],
     "language": "python",
     "metadata": {},
     "outputs": [
      {
       "ename": "TypeError",
       "evalue": "cannot concatenate 'str' and 'int' objects",
       "output_type": "pyerr",
       "traceback": [
        "\u001b[0;31m---------------------------------------------------------------------------\u001b[0m\n\u001b[0;31mTypeError\u001b[0m                                 Traceback (most recent call last)",
        "\u001b[0;32m<ipython-input-116-3fd6b688018d>\u001b[0m in \u001b[0;36m<module>\u001b[0;34m()\u001b[0m\n\u001b[0;32m----> 1\u001b[0;31m \u001b[0;34m'I am '\u001b[0m \u001b[0;34m+\u001b[0m \u001b[0mage\u001b[0m \u001b[0;34m+\u001b[0m \u001b[0;34m' years old'\u001b[0m\u001b[0;34m\u001b[0m\u001b[0m\n\u001b[0m",
        "\u001b[0;31mTypeError\u001b[0m: cannot concatenate 'str' and 'int' objects"
       ]
      }
     ],
     "prompt_number": 116
    },
    {
     "cell_type": "code",
     "collapsed": false,
     "input": [
      "# type conversion"
     ],
     "language": "python",
     "metadata": {},
     "outputs": []
    },
    {
     "cell_type": "code",
     "collapsed": false,
     "input": [
      "v = int(a)"
     ],
     "language": "python",
     "metadata": {},
     "outputs": [],
     "prompt_number": 117
    },
    {
     "cell_type": "code",
     "collapsed": false,
     "input": [
      "v"
     ],
     "language": "python",
     "metadata": {},
     "outputs": [
      {
       "metadata": {},
       "output_type": "pyout",
       "prompt_number": 118,
       "text": [
        "3"
       ]
      }
     ],
     "prompt_number": 118
    },
    {
     "cell_type": "code",
     "collapsed": false,
     "input": [
      "type(v)"
     ],
     "language": "python",
     "metadata": {},
     "outputs": [
      {
       "metadata": {},
       "output_type": "pyout",
       "prompt_number": 120,
       "text": [
        "int"
       ]
      }
     ],
     "prompt_number": 120
    },
    {
     "cell_type": "code",
     "collapsed": false,
     "input": [
      "v + 7"
     ],
     "language": "python",
     "metadata": {},
     "outputs": [
      {
       "metadata": {},
       "output_type": "pyout",
       "prompt_number": 121,
       "text": [
        "10"
       ]
      }
     ],
     "prompt_number": 121
    },
    {
     "cell_type": "code",
     "collapsed": false,
     "input": [
      "v * 7"
     ],
     "language": "python",
     "metadata": {},
     "outputs": [
      {
       "metadata": {},
       "output_type": "pyout",
       "prompt_number": 122,
       "text": [
        "21"
       ]
      }
     ],
     "prompt_number": 122
    },
    {
     "cell_type": "code",
     "collapsed": false,
     "input": [
      "'I am ' + str(age) + ' years old'"
     ],
     "language": "python",
     "metadata": {},
     "outputs": [
      {
       "metadata": {},
       "output_type": "pyout",
       "prompt_number": 123,
       "text": [
        "'I am 39 years old'"
       ]
      }
     ],
     "prompt_number": 123
    },
    {
     "cell_type": "code",
     "collapsed": false,
     "input": [
      "sentence = 'I am ' + str(age) + ' years old'"
     ],
     "language": "python",
     "metadata": {},
     "outputs": [],
     "prompt_number": 124
    },
    {
     "cell_type": "code",
     "collapsed": false,
     "input": [
      "sentence"
     ],
     "language": "python",
     "metadata": {},
     "outputs": [
      {
       "metadata": {},
       "output_type": "pyout",
       "prompt_number": 125,
       "text": [
        "'I am 39 years old'"
       ]
      }
     ],
     "prompt_number": 125
    },
    {
     "cell_type": "code",
     "collapsed": false,
     "input": [
      "result = v * 7"
     ],
     "language": "python",
     "metadata": {},
     "outputs": [],
     "prompt_number": 126
    },
    {
     "cell_type": "code",
     "collapsed": false,
     "input": [
      "result"
     ],
     "language": "python",
     "metadata": {},
     "outputs": [
      {
       "metadata": {},
       "output_type": "pyout",
       "prompt_number": 127,
       "text": [
        "21"
       ]
      }
     ],
     "prompt_number": 127
    },
    {
     "cell_type": "markdown",
     "metadata": {},
     "source": [
      "References and Objects\n",
      "----------------------\n",
      "All **things** in Python are objects:\n",
      "\n",
      "* numbers\n",
      "* strings\n",
      "* lists (aka arrays)\n",
      "* functions\n",
      "* exceptions\n",
      "* classes\n",
      "* instances\n",
      "* modules (aka libraries)"
     ]
    },
    {
     "cell_type": "markdown",
     "metadata": {},
     "source": [
      "Objects all have these characteristics:\n",
      "\n",
      "* type\n",
      "* value (or *state*)\n",
      "* no scope (autonomous)\n",
      "    * think \"heap\" rather than \"stack\"\n",
      "    * imagine the interpreter has a single bag filled with all objects that were ever created\n",
      "* unnamed (anonymous)\n",
      "* reference count"
     ]
    },
    {
     "cell_type": "markdown",
     "metadata": {},
     "source": [
      "Objects are deleted by a built-in **garbage collector** when their reference count goes to zero\n",
      "\n",
      "You have no control over object deletion (only over the references).\n",
      "\n",
      "What we call \"variables\" in other languages we should think of as \"references\" instead in Python\n",
      "\n",
      "**References** are how we access objects\n",
      "\n",
      "* scoped in *functions* (local namespace) and *modules* (global namespace)\n",
      "* **but not** in nested code blocks\n",
      "    * which is commonly the case in other languages\n",
      "    \n",
      "Read more here: [Idiomatic Python](http://python.net/~goodger/projects/pycon/2007/idiomatic/handout.html#other-languages-have-variables)"
     ]
    },
    {
     "cell_type": "markdown",
     "metadata": {},
     "source": [
      "Containers: `lists`\n",
      "==================="
     ]
    },
    {
     "cell_type": "code",
     "collapsed": false,
     "input": [
      "# creation (words, numbers)\n",
      "meta = ['foo', 'bar', 'zip', 'zap']\n",
      "nums = [4, 7, 8, 7, 5]"
     ],
     "language": "python",
     "metadata": {},
     "outputs": [],
     "prompt_number": 128
    },
    {
     "cell_type": "code",
     "collapsed": false,
     "input": [
      "meta"
     ],
     "language": "python",
     "metadata": {},
     "outputs": [
      {
       "metadata": {},
       "output_type": "pyout",
       "prompt_number": 144,
       "text": [
        "['foo', 'bar', 'zip', 'zap']"
       ]
      }
     ],
     "prompt_number": 144
    },
    {
     "cell_type": "code",
     "collapsed": false,
     "input": [
      "nums"
     ],
     "language": "python",
     "metadata": {},
     "outputs": [
      {
       "metadata": {},
       "output_type": "pyout",
       "prompt_number": 145,
       "text": [
        "[4, 7, 8, 7, 5]"
       ]
      }
     ],
     "prompt_number": 145
    },
    {
     "cell_type": "code",
     "collapsed": false,
     "input": [
      "# lookup: ZERO INDEXED\n",
      "meta[0]"
     ],
     "language": "python",
     "metadata": {},
     "outputs": [
      {
       "metadata": {},
       "output_type": "pyout",
       "prompt_number": 129,
       "text": [
        "'foo'"
       ]
      }
     ],
     "prompt_number": 129
    },
    {
     "cell_type": "code",
     "collapsed": false,
     "input": [
      "nums[3]"
     ],
     "language": "python",
     "metadata": {},
     "outputs": [
      {
       "metadata": {},
       "output_type": "pyout",
       "prompt_number": 130,
       "text": [
        "7"
       ]
      }
     ],
     "prompt_number": 130
    },
    {
     "cell_type": "code",
     "collapsed": false,
     "input": [
      "# len\n",
      "len(meta)"
     ],
     "language": "python",
     "metadata": {},
     "outputs": [
      {
       "metadata": {},
       "output_type": "pyout",
       "prompt_number": 131,
       "text": [
        "4"
       ]
      }
     ],
     "prompt_number": 131
    },
    {
     "cell_type": "code",
     "collapsed": false,
     "input": [
      "len(nums)"
     ],
     "language": "python",
     "metadata": {},
     "outputs": [
      {
       "metadata": {},
       "output_type": "pyout",
       "prompt_number": 132,
       "text": [
        "5"
       ]
      }
     ],
     "prompt_number": 132
    },
    {
     "cell_type": "code",
     "collapsed": false,
     "input": [
      "# print: STATEMENT NOT FUNCTION\n",
      "print \"I've been using Python for\", 12, \"years\""
     ],
     "language": "python",
     "metadata": {},
     "outputs": [
      {
       "output_type": "stream",
       "stream": "stdout",
       "text": [
        "I've been using Python for 12 years\n"
       ]
      }
     ],
     "prompt_number": 134
    },
    {
     "cell_type": "code",
     "collapsed": false,
     "input": [
      "# looping\n",
      "for m in meta:\n",
      "    print \"Found word\", w"
     ],
     "language": "python",
     "metadata": {},
     "outputs": [
      {
       "output_type": "stream",
       "stream": "stdout",
       "text": [
        "Found word foo\n",
        "Found word bar\n",
        "Found word zip\n",
        "Found word zap\n"
       ]
      }
     ],
     "prompt_number": 136
    },
    {
     "cell_type": "code",
     "collapsed": false,
     "input": [
      "for n in nums:\n",
      "    print \"Found number\", n, \"whose square is\", n**2"
     ],
     "language": "python",
     "metadata": {},
     "outputs": [
      {
       "output_type": "stream",
       "stream": "stdout",
       "text": [
        "Found number 4 whose square is 16\n",
        "Found number 7 whose square is 49\n",
        "Found number 8 whose square is 64\n",
        "Found number 7 whose square is 49\n",
        "Found number 5 whose square is 25\n"
       ]
      }
     ],
     "prompt_number": 137
    },
    {
     "cell_type": "code",
     "collapsed": false,
     "input": [
      "# sum\n",
      "sum(nums)"
     ],
     "language": "python",
     "metadata": {},
     "outputs": [
      {
       "metadata": {},
       "output_type": "pyout",
       "prompt_number": 138,
       "text": [
        "31"
       ]
      }
     ],
     "prompt_number": 138
    },
    {
     "cell_type": "code",
     "collapsed": false,
     "input": [
      "# max/min"
     ],
     "language": "python",
     "metadata": {},
     "outputs": [],
     "prompt_number": 139
    },
    {
     "cell_type": "code",
     "collapsed": false,
     "input": [
      "max(nums)"
     ],
     "language": "python",
     "metadata": {},
     "outputs": [
      {
       "metadata": {},
       "output_type": "pyout",
       "prompt_number": 140,
       "text": [
        "8"
       ]
      }
     ],
     "prompt_number": 140
    },
    {
     "cell_type": "code",
     "collapsed": false,
     "input": [
      "min(nums)"
     ],
     "language": "python",
     "metadata": {},
     "outputs": [
      {
       "metadata": {},
       "output_type": "pyout",
       "prompt_number": 141,
       "text": [
        "4"
       ]
      }
     ],
     "prompt_number": 141
    },
    {
     "cell_type": "code",
     "collapsed": false,
     "input": [
      "# what is \"in\" the list?\n",
      "stuff = [3, 8, 'ping', 'pong', ['a', 'b', 'c'], 42]"
     ],
     "language": "python",
     "metadata": {},
     "outputs": [],
     "prompt_number": 142
    },
    {
     "cell_type": "code",
     "collapsed": false,
     "input": [
      "stuff"
     ],
     "language": "python",
     "metadata": {},
     "outputs": [
      {
       "metadata": {},
       "output_type": "pyout",
       "prompt_number": 143,
       "text": [
        "[3, 8, 'ping', 'pong', ['a', 'b', 'c'], 42]"
       ]
      }
     ],
     "prompt_number": 143
    },
    {
     "cell_type": "markdown",
     "metadata": {},
     "source": [
      "Functions\n",
      "========="
     ]
    },
    {
     "cell_type": "code",
     "collapsed": false,
     "input": [
      "# average function (def, parameters, colon, white space, return)"
     ],
     "language": "python",
     "metadata": {},
     "outputs": []
    },
    {
     "cell_type": "code",
     "collapsed": false,
     "input": [
      "# duck typing"
     ],
     "language": "python",
     "metadata": {},
     "outputs": []
    },
    {
     "cell_type": "code",
     "collapsed": false,
     "input": [
      "# exceptions"
     ],
     "language": "python",
     "metadata": {},
     "outputs": []
    },
    {
     "cell_type": "code",
     "collapsed": false,
     "input": [
      "# sorted"
     ],
     "language": "python",
     "metadata": {},
     "outputs": []
    },
    {
     "cell_type": "markdown",
     "metadata": {},
     "source": [
      "Exercise 1\n",
      "----------\n",
      "You are going to write a \"median\" function that will return the middle value from a list of numbers.  Use the `average` function as a template.\n",
      "\n",
      "Given the input:\n",
      "```python\n",
      "[3, 7, 2, 9, 6]\n",
      "```\n",
      "The function should return `6`.\n",
      "\n",
      "Before you start, indicate to your neighbor your expected chance of success on a scale of 1 to 10.  If your chance of success is greater than your neighbors, check in with them after a few minutes to see if they need help.\n",
      "\n",
      "Hints:\n",
      "\n",
      "* Remember that white space is significant in Python!\n",
      "* The function, internally, will need to create a sorted copy of the input list of numbers\n",
      "* Dividing the length of the list by 2 will give you a \"good enough\" measure of the middle of the list\n",
      "* Remember \"duck typing\": expect that the right kind of data will be passed to your function\n",
      "\n",
      "Bonus:\n",
      "\n",
      "* Try out your function on a list of words"
     ]
    },
    {
     "cell_type": "code",
     "collapsed": false,
     "input": [
      "# help (dir, len)"
     ],
     "language": "python",
     "metadata": {},
     "outputs": []
    },
    {
     "cell_type": "code",
     "collapsed": false,
     "input": [
      "# docstring"
     ],
     "language": "python",
     "metadata": {},
     "outputs": []
    },
    {
     "cell_type": "code",
     "collapsed": false,
     "input": [
      "# in place sort (and OO nature of Python)"
     ],
     "language": "python",
     "metadata": {},
     "outputs": []
    },
    {
     "cell_type": "code",
     "collapsed": false,
     "input": [
      "# add entry"
     ],
     "language": "python",
     "metadata": {},
     "outputs": []
    },
    {
     "cell_type": "code",
     "collapsed": false,
     "input": [
      "# grow list with another (for loop, method)"
     ],
     "language": "python",
     "metadata": {},
     "outputs": []
    },
    {
     "cell_type": "code",
     "collapsed": false,
     "input": [
      "# remove entry (a few different ways)"
     ],
     "language": "python",
     "metadata": {},
     "outputs": []
    },
    {
     "cell_type": "code",
     "collapsed": false,
     "input": [
      "# membership"
     ],
     "language": "python",
     "metadata": {},
     "outputs": []
    },
    {
     "cell_type": "code",
     "collapsed": false,
     "input": [
      "# slicing"
     ],
     "language": "python",
     "metadata": {},
     "outputs": []
    },
    {
     "cell_type": "code",
     "collapsed": false,
     "input": [
      "# negatives"
     ],
     "language": "python",
     "metadata": {},
     "outputs": []
    },
    {
     "cell_type": "code",
     "collapsed": false,
     "input": [
      "# defaults"
     ],
     "language": "python",
     "metadata": {},
     "outputs": []
    },
    {
     "cell_type": "code",
     "collapsed": false,
     "input": [
      "# strides"
     ],
     "language": "python",
     "metadata": {},
     "outputs": []
    },
    {
     "cell_type": "code",
     "collapsed": false,
     "input": [
      "# slice delete"
     ],
     "language": "python",
     "metadata": {},
     "outputs": []
    },
    {
     "cell_type": "code",
     "collapsed": false,
     "input": [
      "# list math"
     ],
     "language": "python",
     "metadata": {},
     "outputs": []
    },
    {
     "cell_type": "code",
     "collapsed": false,
     "input": [
      "# conditionals: long words, short and long words"
     ],
     "language": "python",
     "metadata": {},
     "outputs": []
    },
    {
     "cell_type": "code",
     "collapsed": false,
     "input": [
      "# long words function"
     ],
     "language": "python",
     "metadata": {},
     "outputs": []
    },
    {
     "cell_type": "code",
     "collapsed": false,
     "input": [
      "# default parameters"
     ],
     "language": "python",
     "metadata": {},
     "outputs": []
    },
    {
     "cell_type": "code",
     "collapsed": false,
     "input": [
      "# multi-value return"
     ],
     "language": "python",
     "metadata": {},
     "outputs": []
    },
    {
     "cell_type": "markdown",
     "metadata": {},
     "source": [
      "Scripts\n",
      "=======\n",
      "* syntactically valid Python code in a file\n",
      "* execute with `python filename` from command line\n",
      "* your IDE may give you some short-cuts\n",
      "\n",
      "**NOTE**: bare expressions and `print`\n",
      "\n",
      "Bare expressions such as:\n",
      "\n",
      "```python\n",
      "7 + 5\n",
      "meta[3]\n",
      "average(vals)\n",
      "```\n",
      "\n",
      "only display a representation of the result in the console when using the **interactive** interpreter.\n",
      "\n",
      "Such \"bare expressions\" will produce no output in a program (although they will be executed).\n",
      "\n",
      "Use `print` statements in your program if you want output to appear."
     ]
    },
    {
     "cell_type": "code",
     "collapsed": false,
     "input": [
      "# script"
     ],
     "language": "python",
     "metadata": {},
     "outputs": []
    },
    {
     "cell_type": "code",
     "collapsed": false,
     "input": [
      "# complex"
     ],
     "language": "python",
     "metadata": {},
     "outputs": []
    },
    {
     "cell_type": "code",
     "collapsed": false,
     "input": [
      "# we have min/max/sum: other math? e.g. sin?"
     ],
     "language": "python",
     "metadata": {},
     "outputs": []
    },
    {
     "cell_type": "code",
     "collapsed": false,
     "input": [
      "# import"
     ],
     "language": "python",
     "metadata": {},
     "outputs": []
    },
    {
     "cell_type": "markdown",
     "metadata": {},
     "source": [
      "Python Standard Library\n",
      "-----------------------\n",
      "* [python.org standard library reference documentation](https://docs.python.org/2.7/library/index.html)\n",
      "* Python Standard Library offers about 300 amazing modules:\n",
      "    * included with every Python distribution (*\"batteries included\"*)\n",
      "    * well documented\n",
      "    * stable APIs (7-12 years)\n",
      "    * great performance (highly optimized -- implemented in C if necessary)\n",
      "    * widely used (field tested: problems will surface fast)\n",
      "    * code reviewed\n",
      "    * great test coverage (~100%)\n",
      "* A killer feature of Python\n",
      "    * so why wouldn't you use them?\n",
      "    * sing it from the mountain tops!\n",
      "* Check the Standard Library **first**:\n",
      "    * before writing it yourself\n",
      "    * before looking in the Cheeseshop\n",
      "* Python Tutorial provides a nice overview in the last few chapters\n",
      "    * skimmable\n",
      "    * includes examples"
     ]
    },
    {
     "cell_type": "code",
     "collapsed": false,
     "input": [
      "# from/as targeted import: random.randint"
     ],
     "language": "python",
     "metadata": {},
     "outputs": []
    },
    {
     "cell_type": "code",
     "collapsed": false,
     "input": [
      "# sys (version, version_info, executable, path)"
     ],
     "language": "python",
     "metadata": {},
     "outputs": []
    },
    {
     "cell_type": "code",
     "collapsed": false,
     "input": [
      "# raw_input"
     ],
     "language": "python",
     "metadata": {},
     "outputs": []
    },
    {
     "cell_type": "code",
     "collapsed": false,
     "input": [
      "# program: long words (internal cutoff, CLI cutoff)"
     ],
     "language": "python",
     "metadata": {},
     "outputs": []
    },
    {
     "cell_type": "code",
     "collapsed": false,
     "input": [
      "# pyflakes"
     ],
     "language": "python",
     "metadata": {},
     "outputs": []
    },
    {
     "cell_type": "markdown",
     "metadata": {},
     "source": [
      "Exercise 2\n",
      "----------\n",
      "Write a single file program that uses `sys.argv` to read in a sequence of numbers and return the average.  Name the file `calc-average`\n",
      "\n",
      "Executing this from the command line:\n",
      "\n",
      "```python\n",
      "$ python calc-average 3 12 6\n",
      "```\n",
      "\n",
      "should return the result `7`\n",
      "\n",
      "As before, estimate your likelihood of success and check-in with your neighbor.  Be prepared to help others complete this.\n",
      "\n",
      "Hints:\n",
      "\n",
      "* Add generous debugging output via the `print` statement\n",
      "* Remember `sys.argv` is a list of strings, and Python does not transmogrify \"number-like-strings\" into numbers for you -- you will need to do this yourself with a loop and a call to `int` or `float`\n",
      "* Remember that `sys.argv[0]` is the program name: you want to skip this entry by judicious slicing\n",
      "\n",
      "Bonus:\n",
      "\n",
      "* Return a usage message if no CLI arguments are provided\n",
      "* Check out [argparse](http://docs.python.org/2/library/argparse.html) for a better way to handle CLI arguments\n",
      "* If you know what a *shbang* line is, try to set this up for the program"
     ]
    },
    {
     "cell_type": "code",
     "collapsed": false,
     "input": [
      "# map"
     ],
     "language": "python",
     "metadata": {},
     "outputs": []
    },
    {
     "cell_type": "code",
     "collapsed": false,
     "input": [
      "# list comprehension"
     ],
     "language": "python",
     "metadata": {},
     "outputs": []
    },
    {
     "cell_type": "code",
     "collapsed": false,
     "input": [
      "# exception handling (on type conversion)"
     ],
     "language": "python",
     "metadata": {},
     "outputs": []
    },
    {
     "cell_type": "markdown",
     "metadata": {},
     "source": [
      "Great Python Tools\n",
      "------------------\n",
      "* <a href=\"http://ipython.org\">IPython</a>\n",
      "    * command line: `ipython`\n",
      "    * web view: `ipython notebook`\n",
      "    * Matlab-like mode: `ipython notebook --pylab=inline`\n",
      "        * pre-imports ~1000 functions\n",
      "        * inline graphics\n",
      "    * great for exploratory/interactive work\n",
      "    * not for writing programs\n",
      "* <a href=\"https://code.google.com/p/spyderlib/\">Spyder</a> Python IDE\n",
      "    * included with Anaconda\n",
      "* <a href=\"https://www.jetbrains.com/pycharm/\">PyCharm</a> Python IDE\n",
      "    * free community edition\n",
      "* <a href=\"http://pydev.org/\">PyDev</a> Eclipse IDE plugin for Python development\n",
      "* <a href=\"http://www.sublimetext.com/\">Sublime Text 3</a> cross-platform programmer's editor\n",
      "* <a href=\"http://git-scm.com/\">Git</a>"
     ]
    },
    {
     "cell_type": "code",
     "collapsed": false,
     "input": [
      "# ipython CLI"
     ],
     "language": "python",
     "metadata": {},
     "outputs": []
    },
    {
     "cell_type": "code",
     "collapsed": false,
     "input": [
      "# ipython notebook --pylab=inline # matlab-like environment"
     ],
     "language": "python",
     "metadata": {},
     "outputs": []
    },
    {
     "cell_type": "markdown",
     "metadata": {},
     "source": [
      "Reserved Words\n",
      "--------------\n",
      "* 30 reserved words (aka keywords)\n",
      "    * http://docs.python.org/2.7/reference/lexical_analysis.html#keywords\n",
      "    * *logic:* `and, not, or`\n",
      "    * *namespaces:* `import, from, as, del, global`\n",
      "    * *object creation:* `class, def, lambda`\n",
      "    * *functions:* `return, print, yield`\n",
      "    * *looping:* `while, for, break, continue`\n",
      "    * *conditional:* `if, else, elif`\n",
      "    * *exeptions:* `try, except, finally, raise`\n",
      "    * *misc:* `pass, assert, with, exec, in, is`\n",
      "                  \n",
      "* Interpreter starts up knowing (almost) *nothing* but language syntax"
     ]
    },
    {
     "cell_type": "code",
     "collapsed": false,
     "input": [
      "# Is \"dir\" a reserved word?"
     ],
     "language": "python",
     "metadata": {},
     "outputs": []
    },
    {
     "cell_type": "code",
     "collapsed": false,
     "input": [
      "# objects and references"
     ],
     "language": "python",
     "metadata": {},
     "outputs": []
    },
    {
     "cell_type": "code",
     "collapsed": false,
     "input": [
      "# namespaces: locals, globals, builtin"
     ],
     "language": "python",
     "metadata": {},
     "outputs": []
    },
    {
     "cell_type": "markdown",
     "metadata": {},
     "source": [
      "`__builtin__`\n",
      "=============\n",
      "* The Python Language defines a special module called *__builtin__* that is part of the Standard Library\n",
      "* It contains *functions*, *exceptions*, and *classes* that are very common:\n",
      "    * 3 special entries: *None*, *True*, *False* (keywords in Python 3)\n",
      "    * 10 core types\n",
      "        * *int, long, float, bool, complex, str, list, dict, tuple, set*\n",
      "    * 20 supporting types\n",
      "        * *file, xrange, object, ...*\n",
      "    * 40 exceptions (upper camel case, mostly ending in *Error* or *Warning*)\n",
      "    * 50 functions\n",
      "        * Math: *abs min max pow round sum divmod*\n",
      "        * Logic: *all any apply map filter reduce*\n",
      "        * Check: *callable isinstance issubclass*\n",
      "        * Convert: *bin chr hex cmp coerce oct ord unichr*\n",
      "        * Introspect: *dir id vars locals globals hasattr getattr setattr delattr compile eval execfile intern hash repr*\n",
      "        * File: *open*\n",
      "        * Iterable: *len range zip iter next sorted*\n",
      "        * Other: *format reload*\n",
      "\n",
      "* Any reference lookup that doesn't find the reference in the *local* namespace (first) or the *global* (which means *module*) namespace (second) will check the `__builtin__` modules namespace (third)\n",
      "* CPython automatically provides a reference to the `__builtin__` module in every *global* namespace but gives it the name `__builtins__`\n",
      "    * under normal use, you never need to use this module reference\n",
      "* If the *local* or *global* namespace has a reference that is found in `__builtin__` then the `__builtin__` reference will be masked"
     ]
    },
    {
     "cell_type": "code",
     "collapsed": false,
     "input": [
      "# sorter.py and word-sorter (incl. module docstring)"
     ],
     "language": "python",
     "metadata": {},
     "outputs": []
    },
    {
     "cell_type": "markdown",
     "metadata": {},
     "source": [
      "Exercise 3\n",
      "----------\n",
      "Create a module `mystats` in a file `mystats.py`, and in it put just the functions `average` and `median`.  Include *docstrings* for your module and functions.\n",
      "\n",
      "Now try importing it, check the doc string (`help(mystats)`), and try using the functions:\n",
      "\n",
      "```python\n",
      ">>> import mystats\n",
      ">>> help(mystats)\n",
      ">>> help(mystats.average)\n",
      ">>> vals = [4, 8, 2, 9, 12]\n",
      ">>> mystats.average(vals)\n",
      "7\n",
      ">>> mystats.median(vals)\n",
      "8\n",
      "```\n",
      "\n",
      "Now create a new program `calc-average2` that uses this module to get the functions.\n",
      "\n",
      "Work with your neighbor for mutual encouragement.\n",
      "\n",
      "Hints:\n",
      "\n",
      "* Include copious debugging (`print` statements)\n",
      "* These files all need to be in the same directory where your interactive interpreter is running"
     ]
    },
    {
     "cell_type": "code",
     "collapsed": false,
     "input": [
      "# __name__ check"
     ],
     "language": "python",
     "metadata": {},
     "outputs": []
    },
    {
     "cell_type": "code",
     "collapsed": false,
     "input": [
      "# sys.path, $PYTHONPATH"
     ],
     "language": "python",
     "metadata": {},
     "outputs": []
    },
    {
     "cell_type": "code",
     "collapsed": false,
     "input": [
      "# module meta-data: name, doc, file: dunder attributes"
     ],
     "language": "python",
     "metadata": {},
     "outputs": []
    },
    {
     "cell_type": "markdown",
     "metadata": {},
     "source": [
      "Mutability\n",
      "----------\n",
      "Mutability of an object is a property of the object based on its type\n",
      "\n",
      "* some objects are mutable (e.g. lists, dictionaries, modules, your own instance objects)\n",
      "* some objects are not (e.g. numbers, strings, tuples)\n",
      "\n",
      "In Python we **never** need to ask the question \"is variable the object or just a reference to the object?\" because:\n",
      "\n",
      "* all **things** are **anonymous**, **autonomous** objects\n",
      "* we **only** ever access objects via **references**\n",
      "\n",
      "You can be forgiven for getting confused!  Most other languages don't work this way (or at least don't *appear* to work this way)\n",
      "\n",
      "* assignment statements don't update an object with a new value\n",
      "* they reassign the reference to a new object\n",
      "* methods on an object may modify the object's internal state\n",
      "    * if that is what they are supposed to do\n",
      "    * if the object is mutable"
     ]
    },
    {
     "cell_type": "code",
     "collapsed": false,
     "input": [
      "# 3, 7, foo, bar"
     ],
     "language": "python",
     "metadata": {},
     "outputs": []
    },
    {
     "cell_type": "code",
     "collapsed": false,
     "input": [
      "# upper: new list of upper case version words"
     ],
     "language": "python",
     "metadata": {},
     "outputs": []
    },
    {
     "cell_type": "code",
     "collapsed": false,
     "input": [
      "# upper: update in place"
     ],
     "language": "python",
     "metadata": {},
     "outputs": []
    },
    {
     "cell_type": "code",
     "collapsed": false,
     "input": [
      "# filter: new list of long words"
     ],
     "language": "python",
     "metadata": {},
     "outputs": []
    },
    {
     "cell_type": "code",
     "collapsed": false,
     "input": [
      "# filter: update in place to remove short words"
     ],
     "language": "python",
     "metadata": {},
     "outputs": []
    },
    {
     "cell_type": "markdown",
     "metadata": {},
     "source": [
      "Dictionaries\n",
      "------------\n",
      "* it would not be too much to say that the Python language is built on dictionaries\n",
      "* most highly tuned data structure in the language\n",
      "* use them fearlessly\n",
      "* in other languages, variously known as a *HashMap* or *Associative Array*\n"
     ]
    },
    {
     "cell_type": "code",
     "collapsed": false,
     "input": [
      "# creation: ian, maggie, hilary"
     ],
     "language": "python",
     "metadata": {},
     "outputs": []
    },
    {
     "cell_type": "code",
     "collapsed": false,
     "input": [
      "# read"
     ],
     "language": "python",
     "metadata": {},
     "outputs": []
    },
    {
     "cell_type": "code",
     "collapsed": false,
     "input": [
      "# update entry"
     ],
     "language": "python",
     "metadata": {},
     "outputs": []
    },
    {
     "cell_type": "code",
     "collapsed": false,
     "input": [
      "# add (color)"
     ],
     "language": "python",
     "metadata": {},
     "outputs": []
    },
    {
     "cell_type": "code",
     "collapsed": false,
     "input": [
      "# KeyError"
     ],
     "language": "python",
     "metadata": {},
     "outputs": []
    },
    {
     "cell_type": "code",
     "collapsed": false,
     "input": [
      "# membership"
     ],
     "language": "python",
     "metadata": {},
     "outputs": []
    },
    {
     "cell_type": "code",
     "collapsed": false,
     "input": [
      "# update from address dict"
     ],
     "language": "python",
     "metadata": {},
     "outputs": []
    },
    {
     "cell_type": "code",
     "collapsed": false,
     "input": [
      "# iteration"
     ],
     "language": "python",
     "metadata": {},
     "outputs": []
    },
    {
     "cell_type": "code",
     "collapsed": false,
     "input": [
      "# vitals function: height, weight, eyes, hair"
     ],
     "language": "python",
     "metadata": {},
     "outputs": []
    },
    {
     "cell_type": "markdown",
     "metadata": {},
     "source": [
      "Exercise 4\n",
      "----------\n",
      "Create a dictionary to describe books.  Think about the different fields it could have.  Create 3 different dictionaries for made-up (or real) books.\n",
      "\n",
      "Write a single parameter function `fix()` that takes your dictionary object (i.e. with the field names you chose) and peforms the following:\n",
      "\n",
      "* Change the book title entry to all upper case using the `.upper()` method on a string\n",
      "* Change the book author entry to title case using the `.title()` method on a string\n",
      "* Print out \"too long\" if the book is over 400 pages\n",
      "* Print out \"too short\" if the book is under 100 pages\n",
      "\n",
      "Try out your `fix()` function on your book dictionaries\n",
      "\n",
      "Put your books in a list then iterate over that list and call `fix()` on each one in turn\n",
      "\n",
      "**Bonus**\n",
      "\n",
      "* make `short` and `long` parameters to `fix()`\n",
      "* give those parameters defaults"
     ]
    },
    {
     "cell_type": "markdown",
     "metadata": {},
     "source": [
      "Classes\n",
      "======="
     ]
    },
    {
     "cell_type": "code",
     "collapsed": false,
     "input": [
      "# 2D point with lists"
     ],
     "language": "python",
     "metadata": {},
     "outputs": []
    },
    {
     "cell_type": "code",
     "collapsed": false,
     "input": [
      "# distance function"
     ],
     "language": "python",
     "metadata": {},
     "outputs": []
    },
    {
     "cell_type": "code",
     "collapsed": false,
     "input": [
      "# tuple version"
     ],
     "language": "python",
     "metadata": {},
     "outputs": []
    },
    {
     "cell_type": "code",
     "collapsed": false,
     "input": [
      "# dictionary version"
     ],
     "language": "python",
     "metadata": {},
     "outputs": []
    },
    {
     "cell_type": "code",
     "collapsed": false,
     "input": [
      "# empty Point class"
     ],
     "language": "python",
     "metadata": {},
     "outputs": []
    },
    {
     "cell_type": "code",
     "collapsed": false,
     "input": [
      "# class version (function with two Point instances)"
     ],
     "language": "python",
     "metadata": {},
     "outputs": []
    },
    {
     "cell_type": "code",
     "collapsed": false,
     "input": [
      "# angle function: atan(y/x)*180/pi"
     ],
     "language": "python",
     "metadata": {},
     "outputs": []
    },
    {
     "cell_type": "code",
     "collapsed": false,
     "input": [
      "# angle method (calling from class)"
     ],
     "language": "python",
     "metadata": {},
     "outputs": []
    },
    {
     "cell_type": "code",
     "collapsed": false,
     "input": [
      "# angle method (calling from instance)"
     ],
     "language": "python",
     "metadata": {},
     "outputs": []
    },
    {
     "cell_type": "code",
     "collapsed": false,
     "input": [
      "# create_point function"
     ],
     "language": "python",
     "metadata": {},
     "outputs": []
    },
    {
     "cell_type": "code",
     "collapsed": false,
     "input": [
      "# create_point method"
     ],
     "language": "python",
     "metadata": {},
     "outputs": []
    },
    {
     "cell_type": "code",
     "collapsed": false,
     "input": [
      "# __init__"
     ],
     "language": "python",
     "metadata": {},
     "outputs": []
    },
    {
     "cell_type": "code",
     "collapsed": false,
     "input": [
      "# self"
     ],
     "language": "python",
     "metadata": {},
     "outputs": []
    },
    {
     "cell_type": "code",
     "collapsed": false,
     "input": [
      "# distance: function to method"
     ],
     "language": "python",
     "metadata": {},
     "outputs": []
    },
    {
     "cell_type": "code",
     "collapsed": false,
     "input": [
      "# __repr__"
     ],
     "language": "python",
     "metadata": {},
     "outputs": []
    },
    {
     "cell_type": "code",
     "collapsed": false,
     "input": [
      "# __str__"
     ],
     "language": "python",
     "metadata": {},
     "outputs": []
    },
    {
     "cell_type": "code",
     "collapsed": false,
     "input": [
      "# Line class (2 points)"
     ],
     "language": "python",
     "metadata": {},
     "outputs": []
    },
    {
     "cell_type": "code",
     "collapsed": false,
     "input": [
      "# length method"
     ],
     "language": "python",
     "metadata": {},
     "outputs": []
    },
    {
     "cell_type": "code",
     "collapsed": false,
     "input": [
      "# Line class (list of points)"
     ],
     "language": "python",
     "metadata": {},
     "outputs": []
    },
    {
     "cell_type": "code",
     "collapsed": false,
     "input": [
      "# __getitem__"
     ],
     "language": "python",
     "metadata": {},
     "outputs": []
    },
    {
     "cell_type": "code",
     "collapsed": false,
     "input": [
      "# __len__"
     ],
     "language": "python",
     "metadata": {},
     "outputs": []
    },
    {
     "cell_type": "code",
     "collapsed": false,
     "input": [
      "# __contains__"
     ],
     "language": "python",
     "metadata": {},
     "outputs": []
    },
    {
     "cell_type": "markdown",
     "metadata": {},
     "source": [
      "There are lots of *dunder methods* that you can implement to get special behavior:\n",
      "\n",
      "* [Magic Method Summary](http://www.rafekettler.com/magicmethods.html)"
     ]
    },
    {
     "cell_type": "markdown",
     "metadata": {},
     "source": [
      "Exercise 5\n",
      "----------\n",
      "Create a `Square` class that describes a square based on 2 `Point` instances for the bottom left and top right corners.\n",
      "\n",
      "Add an `.area()` method that returns the area of the square\n",
      "\n",
      "Add a `.circum()` method that returns the circumference \n",
      "\n",
      "**Bonus**: Create a `Traingle` class based on 3 `Point` instances. Unless you are a geometry whiz, skip the `.area()` method."
     ]
    },
    {
     "cell_type": "markdown",
     "metadata": {},
     "source": [
      "Inheritance\n",
      "-----------"
     ]
    },
    {
     "cell_type": "code",
     "collapsed": false,
     "input": [
      "# Shape (with \"points\", str, repr)"
     ],
     "language": "python",
     "metadata": {},
     "outputs": []
    },
    {
     "cell_type": "code",
     "collapsed": false,
     "input": [
      "# UnitsLine (with \"units\")"
     ],
     "language": "python",
     "metadata": {},
     "outputs": []
    },
    {
     "cell_type": "code",
     "collapsed": false,
     "input": [
      "# ColorQuad (new-style, with \"color\")\n",
      "# super: super(ColorQuad, self).__init__(...)"
     ],
     "language": "python",
     "metadata": {},
     "outputs": []
    },
    {
     "cell_type": "markdown",
     "metadata": {},
     "source": [
      "FileIO\n",
      "------"
     ]
    },
    {
     "cell_type": "code",
     "collapsed": false,
     "input": [
      "# read (shopping.txt)"
     ],
     "language": "python",
     "metadata": {},
     "outputs": []
    },
    {
     "cell_type": "code",
     "collapsed": false,
     "input": [
      "# seek"
     ],
     "language": "python",
     "metadata": {},
     "outputs": []
    },
    {
     "cell_type": "code",
     "collapsed": false,
     "input": [
      "# read all"
     ],
     "language": "python",
     "metadata": {},
     "outputs": []
    },
    {
     "cell_type": "code",
     "collapsed": false,
     "input": [
      "# close"
     ],
     "language": "python",
     "metadata": {},
     "outputs": []
    },
    {
     "cell_type": "code",
     "collapsed": false,
     "input": [
      "# with (context manager)"
     ],
     "language": "python",
     "metadata": {},
     "outputs": []
    },
    {
     "cell_type": "code",
     "collapsed": false,
     "input": [
      "# but usually, iteration and line-by-line reading\n",
      "# remember, it is all text!"
     ],
     "language": "python",
     "metadata": {},
     "outputs": []
    },
    {
     "cell_type": "code",
     "collapsed": false,
     "input": [
      "# read (numbers.dat)"
     ],
     "language": "python",
     "metadata": {},
     "outputs": []
    },
    {
     "cell_type": "code",
     "collapsed": false,
     "input": [
      "# generate list, return average"
     ],
     "language": "python",
     "metadata": {},
     "outputs": []
    },
    {
     "cell_type": "code",
     "collapsed": false,
     "input": [
      "# read (points.dat)"
     ],
     "language": "python",
     "metadata": {},
     "outputs": []
    },
    {
     "cell_type": "code",
     "collapsed": false,
     "input": [
      "# convert to Point objects"
     ],
     "language": "python",
     "metadata": {},
     "outputs": []
    },
    {
     "cell_type": "code",
     "collapsed": false,
     "input": [
      "# create Line object from collection of points"
     ],
     "language": "python",
     "metadata": {},
     "outputs": []
    },
    {
     "cell_type": "code",
     "collapsed": false,
     "input": [
      "# write line length to file"
     ],
     "language": "python",
     "metadata": {},
     "outputs": []
    },
    {
     "cell_type": "markdown",
     "metadata": {},
     "source": [
      "Python + Numbers + Pictures =\n",
      "==============================\n",
      "`(numpy, matplotlib, pandas)`\n",
      "==============================\n",
      "\n",
      "* save your work\n",
      "* exit out of Python, IPython, Spyder, etc. etc.\n",
      "    * shut it all down from the command line\n",
      "* start up *IPython Notebook* in *pylab* mode with inline graphics:\n",
      "```bash\n",
      "$ ipython notebook --pylab=inline\n",
      "```\n",
      "* this is the easiest way to explore graphics in Python for this workshop\n",
      "\n",
      "*Attribution:*\n",
      "\n",
      "* Weather data from [Environment Canada](http://climate.weather.gc.ca/)\n",
      "* Python examples adapted from [Julia Evans Pandas Cookbook](https://github.com/jvns/pandas-cookbook)"
     ]
    },
    {
     "cell_type": "code",
     "collapsed": true,
     "input": [
      "jan = []\n",
      "with open('jan_2012.txt') as fh:\n",
      "    for line in fh:\n",
      "        entry = float(line.strip())\n",
      "        jan.append(entry)"
     ],
     "language": "python",
     "metadata": {},
     "outputs": []
    },
    {
     "cell_type": "code",
     "collapsed": false,
     "input": [
      "plot(jan)"
     ],
     "language": "python",
     "metadata": {},
     "outputs": []
    },
    {
     "cell_type": "code",
     "collapsed": false,
     "input": [
      "figure()\n",
      "hold(True)\n",
      "title('mid-day temperatures in Montreal, January 2012')\n",
      "ylabel('temp (C)')\n",
      "xlabel('day')\n",
      "plot(jan)\n",
      "show()"
     ],
     "language": "python",
     "metadata": {},
     "outputs": []
    },
    {
     "cell_type": "code",
     "collapsed": false,
     "input": [
      "from datetime import datetime\n",
      "dt_conv = lambda dt: datetime.strptime(dt, '%m/%d/%y %H:%M')\n",
      "weather = genfromtxt('weather_2012.csv',\n",
      "    converters={0:dt_conv}, delimiter=',', skip_header=1,\n",
      "    dtype=[\n",
      "        ('dt',     'datetime64[h]'),\n",
      "        ('temp',   '|f8'),\n",
      "        ('dew',    '|f8'),\n",
      "        ('humid',  '|f8'),\n",
      "        ('wind',   '|f8'),\n",
      "        ('vis',    '|f8'),\n",
      "        ('pres',   '|f8'),\n",
      "        ('cond',   'a20')\n",
      "    ])"
     ],
     "language": "python",
     "metadata": {},
     "outputs": []
    },
    {
     "cell_type": "code",
     "collapsed": false,
     "input": [
      "from collections import Counter"
     ],
     "language": "python",
     "metadata": {},
     "outputs": []
    },
    {
     "cell_type": "code",
     "collapsed": false,
     "input": [
      "cond = Counter(weather['cond'])"
     ],
     "language": "python",
     "metadata": {},
     "outputs": []
    },
    {
     "cell_type": "code",
     "collapsed": false,
     "input": [
      "cond.most_common(10)"
     ],
     "language": "python",
     "metadata": {},
     "outputs": []
    },
    {
     "cell_type": "markdown",
     "metadata": {},
     "source": [
      "Phew! `numpy` is amazing and gives great (Matlab-like) performance for array/matrix data, but can be a handful sometimes.\n",
      "\n",
      "**`pandas` to the rescue**: Provides a wrapper around numpy `ndarray` data structures to make them similar to R's very versatile *Data Frame*"
     ]
    },
    {
     "cell_type": "code",
     "collapsed": false,
     "input": [
      "import pandas as pd\n",
      "\n",
      "pd.read_csv('weather_2012.csv')"
     ],
     "language": "python",
     "metadata": {},
     "outputs": []
    },
    {
     "cell_type": "code",
     "collapsed": false,
     "input": [
      "pd.read_csv('weather_2012.csv', index_col='Date/Time')"
     ],
     "language": "python",
     "metadata": {},
     "outputs": []
    },
    {
     "cell_type": "code",
     "collapsed": false,
     "input": [
      "weather = pd.read_csv('weather_2012.csv', index_col='Date/Time')"
     ],
     "language": "python",
     "metadata": {},
     "outputs": []
    },
    {
     "cell_type": "code",
     "collapsed": false,
     "input": [
      "figure(figsize=(15,6))\n",
      "hold(True)\n",
      "weather['Temp (C)'].plot()\n",
      "weather['Wind Spd (km/h)'].plot(secondary_y=True)"
     ],
     "language": "python",
     "metadata": {},
     "outputs": []
    },
    {
     "cell_type": "code",
     "collapsed": false,
     "input": [],
     "language": "python",
     "metadata": {},
     "outputs": []
    }
   ],
   "metadata": {}
  }
 ]
}